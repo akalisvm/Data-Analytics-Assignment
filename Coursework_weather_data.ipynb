{
 "cells": [
  {
   "cell_type": "markdown",
   "metadata": {},
   "source": [
    "# Coursework: Climate data analysis"
   ]
  },
  {
   "cell_type": "code",
   "execution_count": 155,
   "metadata": {
    "scrolled": false
   },
   "outputs": [],
   "source": [
    "# python packages needed. You can, of course, use others if you need them.\n",
    "\n",
    "import numpy as np\n",
    "import pandas as pd\n",
    "import matplotlib.pyplot as plt\n",
    "import seaborn as sn\n",
    "import scipy as scipy\n",
    "import pickle as pickle\n",
    "from sklearn.metrics import mean_squared_error, mean_absolute_error"
   ]
  },
  {
   "cell_type": "markdown",
   "metadata": {},
   "source": [
    "## TASK I - Preliminary analysis"
   ]
  },
  {
   "cell_type": "markdown",
   "metadata": {},
   "source": [
    "**a. Import the `weather-denmark-resampled.pkl` dataset  provided  in  the  folderand explore  the dataset by answering the following questions.**"
   ]
  },
  {
   "cell_type": "code",
   "execution_count": 156,
   "metadata": {},
   "outputs": [],
   "source": [
    "# Loading .pkl files \n",
    "\n",
    "f_wdr = open('weather-denmark-resampled.pkl', 'rb')\n",
    "df = pd.read_pickle(f_wdr)"
   ]
  },
  {
   "cell_type": "code",
   "execution_count": 157,
   "metadata": {},
   "outputs": [
    {
     "name": "stdout",
     "output_type": "stream",
     "text": [
      "5\n"
     ]
    }
   ],
   "source": [
    "################################### \n",
    "# i.How many cities are there in the dataset?\n",
    "\n",
    "# df.columns\n",
    "# print(len(df.columns) / 4)\n",
    "city = \"none\"\n",
    "city_numbers = 0\n",
    "for i in range(len(df.columns)):\n",
    "    if df.columns[i][0] != city:\n",
    "        city = df.columns[i][0]\n",
    "        city_numbers += 1\n",
    "print(city_numbers)\n",
    "\n",
    "###################################"
   ]
  },
  {
   "cell_type": "code",
   "execution_count": 158,
   "metadata": {},
   "outputs": [
    {
     "name": "stdout",
     "output_type": "stream",
     "text": [
      "4\n"
     ]
    }
   ],
   "source": [
    "###############################\n",
    "# ii.How many observations and features are there in this dataset?\n",
    "\n",
    "city = df.columns[0][0]\n",
    "features_numbers = 0\n",
    "for i in range(len(df.columns)):\n",
    "    if df.columns[i][0] != city:\n",
    "        break\n",
    "    else:\n",
    "        features_numbers += 1\n",
    "print(features_numbers)\n",
    "\n",
    "###############################"
   ]
  },
  {
   "cell_type": "code",
   "execution_count": 159,
   "metadata": {},
   "outputs": [
    {
     "name": "stdout",
     "output_type": "stream",
     "text": [
      "['Temp', 'Pressure', 'WindSpeed', 'WindDir']\n"
     ]
    }
   ],
   "source": [
    "###############################\n",
    "# iii.What are the names of the different features?\n",
    "\n",
    "features_list = []\n",
    "for i in range(features_numbers):\n",
    "    features_list.append(df.columns[i][1])\n",
    "print(features_list)\n",
    "\n",
    "###############################"
   ]
  },
  {
   "cell_type": "markdown",
   "metadata": {},
   "source": [
    "**b. Now that you got confident with the dataset, evaluate if the dataset contains anymissing values? If so, then remove them using the pandas built-in function.**\n",
    "\n"
   ]
  },
  {
   "cell_type": "code",
   "execution_count": 160,
   "metadata": {},
   "outputs": [],
   "source": [
    "###########################\n",
    "\n",
    "df = df.dropna(how='any')\n",
    "\n",
    "###########################"
   ]
  },
  {
   "cell_type": "markdown",
   "metadata": {},
   "source": [
    "**c. Extract the general statistical properties summarising the minimum, maximum, median, mean and standard deviation values for all the features in the dataset. Spot any anomalies in these properties and clearly explain why you classify them as anomalies.**"
   ]
  },
  {
   "cell_type": "code",
   "execution_count": 161,
   "metadata": {},
   "outputs": [
    {
     "name": "stdout",
     "output_type": "stream",
     "text": [
      "min: \n",
      "\n",
      "Aalborg   Temp         -25.000000\n",
      "          Pressure     951.900000\n",
      "          WindSpeed      0.000000\n",
      "          WindDir       10.000000\n",
      "Aarhus    Temp         -24.300000\n",
      "          Pressure     955.500000\n",
      "          WindSpeed      0.000000\n",
      "          WindDir       10.000000\n",
      "Esbjerg   Temp         -27.000000\n",
      "          Pressure     959.300000\n",
      "          WindSpeed      0.000000\n",
      "          WindDir       10.000000\n",
      "Odense    Temp         -22.500000\n",
      "          Pressure     959.700000\n",
      "          WindSpeed      0.000000\n",
      "          WindDir       10.000000\n",
      "Roskilde  Temp         -21.833333\n",
      "          Pressure     959.800000\n",
      "          WindSpeed      0.000000\n",
      "          WindDir       10.000000\n",
      "dtype: float64\n",
      "\n",
      "\n",
      "max: \n",
      "\n",
      "Aalborg   Temp           30.800000\n",
      "          Pressure     1050.800000\n",
      "          WindSpeed      32.900000\n",
      "          WindDir       360.000000\n",
      "Aarhus    Temp           30.900000\n",
      "          Pressure     1050.000000\n",
      "          WindSpeed      33.400000\n",
      "          WindDir       360.000000\n",
      "Esbjerg   Temp           54.000000\n",
      "          Pressure     1049.300000\n",
      "          WindSpeed      39.100000\n",
      "          WindDir       360.000000\n",
      "Odense    Temp           49.900000\n",
      "          Pressure     1048.900000\n",
      "          WindSpeed      62.521795\n",
      "          WindDir       360.000000\n",
      "Roskilde  Temp           32.000000\n",
      "          Pressure     1048.100000\n",
      "          WindSpeed      25.000000\n",
      "          WindDir       360.000000\n",
      "dtype: float64\n",
      "\n",
      "\n",
      "median: \n",
      "\n",
      "Aalborg   Temp            8.111111\n",
      "          Pressure     1013.400000\n",
      "          WindSpeed       4.600000\n",
      "          WindDir       210.000000\n",
      "Aarhus    Temp            8.000000\n",
      "          Pressure     1014.000000\n",
      "          WindSpeed       3.600000\n",
      "          WindDir       213.333333\n",
      "Esbjerg   Temp            8.333333\n",
      "          Pressure     1014.127073\n",
      "          WindSpeed       4.516667\n",
      "          WindDir       216.666667\n",
      "Odense    Temp            8.700000\n",
      "          Pressure     1014.433333\n",
      "          WindSpeed       4.600000\n",
      "          WindDir       210.000000\n",
      "Roskilde  Temp            8.000000\n",
      "          Pressure     1013.833333\n",
      "          WindSpeed       4.433333\n",
      "          WindDir       220.000000\n",
      "dtype: float64\n",
      "\n",
      "\n",
      "mean: \n",
      "\n",
      "Aalborg   Temp            8.344553\n",
      "          Pressure     1012.733809\n",
      "          WindSpeed       4.867129\n",
      "          WindDir       192.403707\n",
      "Aarhus    Temp            8.312325\n",
      "          Pressure     1013.346686\n",
      "          WindSpeed       4.033814\n",
      "          WindDir       201.369146\n",
      "Esbjerg   Temp            8.556717\n",
      "          Pressure     1013.131439\n",
      "          WindSpeed       4.888487\n",
      "          WindDir       201.843897\n",
      "Odense    Temp            8.823818\n",
      "          Pressure     1013.802996\n",
      "          WindSpeed       4.846944\n",
      "          WindDir       195.933713\n",
      "Roskilde  Temp            8.285595\n",
      "          Pressure     1012.841385\n",
      "          WindSpeed       4.831841\n",
      "          WindDir       202.828090\n",
      "dtype: float64\n",
      "\n",
      "\n",
      "standard deviation: \n",
      "\n",
      "Aalborg   Temp          6.984943\n",
      "          Pressure     11.693430\n",
      "          WindSpeed     2.794357\n",
      "          WindDir      88.021967\n",
      "Aarhus    Temp          7.024914\n",
      "          Pressure     11.281176\n",
      "          WindSpeed     2.545558\n",
      "          WindDir      82.112979\n",
      "Esbjerg   Temp          6.742853\n",
      "          Pressure     10.904699\n",
      "          WindSpeed     2.680096\n",
      "          WindDir      87.835192\n",
      "Odense    Temp          6.922563\n",
      "          Pressure     10.962173\n",
      "          WindSpeed     2.766738\n",
      "          WindDir      83.694276\n",
      "Roskilde  Temp          7.123108\n",
      "          Pressure     11.744512\n",
      "          WindSpeed     2.753835\n",
      "          WindDir      86.120459\n",
      "dtype: float64\n",
      "\n",
      "\n"
     ]
    }
   ],
   "source": [
    "###########################\n",
    "\n",
    "print(\"min: \\n\")\n",
    "print(df.min())\n",
    "print(\"\\n\")\n",
    "\n",
    "print(\"max: \\n\")\n",
    "print(df.max())\n",
    "print(\"\\n\")\n",
    "\n",
    "print(\"median: \\n\")\n",
    "print(df.median())\n",
    "print(\"\\n\")\n",
    "\n",
    "print(\"mean: \\n\")\n",
    "print(df.mean())\n",
    "print(\"\\n\")\n",
    "\n",
    "print(\"standard deviation: \\n\")\n",
    "print(df.std())\n",
    "print(\"\\n\")\n",
    "\n",
    "###########################"
   ]
  },
  {
   "cell_type": "markdown",
   "metadata": {},
   "source": [
    "## TASK II - OUTLIERS\n",
    "\n",
    "The second task is focused on spotting and overcoming outliers. Follow the instructions in the following:"
   ]
  },
  {
   "cell_type": "markdown",
   "metadata": {},
   "source": [
    "**d. Store the temperature measurements in May 2006 for the city of Odense. Then produce a simple plot of the temperature versus time.**\n",
    "\n",
    "*HINT: In this dataset, the cities are vertically stacked. Therefore, we have a multi column dataset, which basically works as a nested dictionary.*"
   ]
  },
  {
   "cell_type": "code",
   "execution_count": 162,
   "outputs": [
    {
     "data": {
      "text/plain": "<AxesSubplot:xlabel='DateTime'>"
     },
     "execution_count": 162,
     "metadata": {},
     "output_type": "execute_result"
    },
    {
     "data": {
      "text/plain": "<Figure size 432x288 with 1 Axes>",
      "image/png": "[encoded data removed]"
     },
     "metadata": {
      "needs_background": "light"
     },
     "output_type": "display_data"
    }
   ],
   "source": [
    "###########################\n",
    "\n",
    "df['Odense']['Temp']['2006-05'].plot()\n",
    "\n",
    "###########################"
   ],
   "metadata": {
    "collapsed": false,
    "pycharm": {
     "name": "#%%\n"
    }
   }
  },
  {
   "cell_type": "markdown",
   "metadata": {},
   "source": [
    "**e. Find the outliers in this set of measurements (if any) and replace them using linear interpolation.**"
   ]
  },
  {
   "cell_type": "code",
   "execution_count": 177,
   "outputs": [
    {
     "data": {
      "text/plain": "<AxesSubplot:xlabel='DateTime'>"
     },
     "execution_count": 177,
     "metadata": {},
     "output_type": "execute_result"
    },
    {
     "data": {
      "text/plain": "<Figure size 432x288 with 1 Axes>",
      "image/png": "[encoded data removed]"
     },
     "metadata": {
      "needs_background": "light"
     },
     "output_type": "display_data"
    }
   ],
   "source": [
    "###########################\n",
    "\n",
    "col = df['Odense']['Temp']['2006-05']\n",
    "median = col.median()\n",
    "mad = col.mad()\n",
    "\n",
    "def get_zscore(x):\n",
    "    return (x - median) / mad\n",
    "\n",
    "def temp_map(x):\n",
    "    temp_val = np.nan if get_zscore(x) > 4 else x\n",
    "    return temp_val\n",
    "\n",
    "col = col.map(temp_map)\n",
    "col = col.fillna(col.interpolate())\n",
    "col.plot()\n",
    "\n",
    "###########################"
   ],
   "metadata": {
    "collapsed": false,
    "pycharm": {
     "name": "#%%\n"
    }
   }
  },
  {
   "cell_type": "markdown",
   "metadata": {},
   "source": [
    "## TASK III.1 - CORRELATION\n",
    "\n",
    "In this last task, you will be seeking correlation between features of the data and inferring hidden patterns.  For  this  task,  you  will  be  working  with  a  smaller  dataset.  Follow  the  instructions  in  the following:"
   ]
  },
  {
   "cell_type": "markdown",
   "metadata": {},
   "source": [
    "**f. We  now  take  a new  dataset (`df_perth.pkl`),  which  collects  climate  data  of  a  city  in Australia. Here we have just one year of measurements, but more features.**"
   ]
  },
  {
   "cell_type": "code",
   "execution_count": 182,
   "metadata": {},
   "outputs": [],
   "source": [
    "#################################\n",
    "\n",
    "f_dp = open('df_perth.pkl', 'rb')\n",
    "df = pd.read_pickle(f_dp)\n",
    "\n",
    "#################################"
   ]
  },
  {
   "cell_type": "markdown",
   "metadata": {},
   "source": [
    "**g. Find any significant correlations between features.**\n",
    "\n",
    "*HINT: you might find useful looking fortrends and recurrent patterns within the data*"
   ]
  },
  {
   "cell_type": "code",
   "execution_count": 189,
   "metadata": {},
   "outputs": [
    {
     "data": {
      "text/plain": "                             temp  pressure  relative humidity  wind speed  \\\ntemp                     1.000000 -0.000713          -0.761345    0.343214   \npressure                -0.000713  1.000000          -0.253514    0.007968   \nrelative humidity       -0.761345 -0.253514           1.000000   -0.340895   \nwind speed               0.343214  0.007968          -0.340895    1.000000   \ncloud cover             -0.090391 -0.782275           0.272694   -0.060845   \nprecipitation           -0.062609 -0.245895           0.175913   -0.011236   \nPV production            0.529136  0.162544          -0.646227    0.249162   \ndiffuse radiation, tilt  0.440259 -0.216266          -0.459441    0.194775   \nsolar azimuth            0.360599 -0.001735          -0.428187    0.269784   \n\n                         cloud cover  precipitation  PV production  \\\ntemp                       -0.090391      -0.062609       0.529136   \npressure                   -0.782275      -0.245895       0.162544   \nrelative humidity           0.272694       0.175913      -0.646227   \nwind speed                 -0.060845      -0.011236       0.249162   \ncloud cover                 1.000000       0.248765      -0.181765   \nprecipitation               0.248765       1.000000      -0.068143   \nPV production              -0.181765      -0.068143       1.000000   \ndiffuse radiation, tilt     0.258931      -0.002506       0.742691   \nsolar azimuth              -0.010382       0.014081       0.034108   \n\n                         diffuse radiation, tilt  solar azimuth  \ntemp                                    0.440259       0.360599  \npressure                               -0.216266      -0.001735  \nrelative humidity                      -0.459441      -0.428187  \nwind speed                              0.194775       0.269784  \ncloud cover                             0.258931      -0.010382  \nprecipitation                          -0.002506       0.014081  \nPV production                           0.742691       0.034108  \ndiffuse radiation, tilt                 1.000000       0.044362  \nsolar azimuth                           0.044362       1.000000  ",
      "text/html": "<div>\n<style scoped>\n    .dataframe tbody tr th:only-of-type {\n        vertical-align: middle;\n    }\n\n    .dataframe tbody tr th {\n        vertical-align: top;\n    }\n\n    .dataframe thead th {\n        text-align: right;\n    }\n</style>\n<table border=\"1\" class=\"dataframe\">\n  <thead>\n    <tr style=\"text-align: right;\">\n      <th></th>\n      <th>temp</th>\n      <th>pressure</th>\n      <th>relative humidity</th>\n      <th>wind speed</th>\n      <th>cloud cover</th>\n      <th>precipitation</th>\n      <th>PV production</th>\n      <th>diffuse radiation, tilt</th>\n      <th>solar azimuth</th>\n    </tr>\n  </thead>\n  <tbody>\n    <tr>\n      <th>temp</th>\n      <td>1.000000</td>\n      <td>-0.000713</td>\n      <td>-0.761345</td>\n      <td>0.343214</td>\n      <td>-0.090391</td>\n      <td>-0.062609</td>\n      <td>0.529136</td>\n      <td>0.440259</td>\n      <td>0.360599</td>\n    </tr>\n    <tr>\n      <th>pressure</th>\n      <td>-0.000713</td>\n      <td>1.000000</td>\n      <td>-0.253514</td>\n      <td>0.007968</td>\n      <td>-0.782275</td>\n      <td>-0.245895</td>\n      <td>0.162544</td>\n      <td>-0.216266</td>\n      <td>-0.001735</td>\n    </tr>\n    <tr>\n      <th>relative humidity</th>\n      <td>-0.761345</td>\n      <td>-0.253514</td>\n      <td>1.000000</td>\n      <td>-0.340895</td>\n      <td>0.272694</td>\n      <td>0.175913</td>\n      <td>-0.646227</td>\n      <td>-0.459441</td>\n      <td>-0.428187</td>\n    </tr>\n    <tr>\n      <th>wind speed</th>\n      <td>0.343214</td>\n      <td>0.007968</td>\n      <td>-0.340895</td>\n      <td>1.000000</td>\n      <td>-0.060845</td>\n      <td>-0.011236</td>\n      <td>0.249162</td>\n      <td>0.194775</td>\n      <td>0.269784</td>\n    </tr>\n    <tr>\n      <th>cloud cover</th>\n      <td>-0.090391</td>\n      <td>-0.782275</td>\n      <td>0.272694</td>\n      <td>-0.060845</td>\n      <td>1.000000</td>\n      <td>0.248765</td>\n      <td>-0.181765</td>\n      <td>0.258931</td>\n      <td>-0.010382</td>\n    </tr>\n    <tr>\n      <th>precipitation</th>\n      <td>-0.062609</td>\n      <td>-0.245895</td>\n      <td>0.175913</td>\n      <td>-0.011236</td>\n      <td>0.248765</td>\n      <td>1.000000</td>\n      <td>-0.068143</td>\n      <td>-0.002506</td>\n      <td>0.014081</td>\n    </tr>\n    <tr>\n      <th>PV production</th>\n      <td>0.529136</td>\n      <td>0.162544</td>\n      <td>-0.646227</td>\n      <td>0.249162</td>\n      <td>-0.181765</td>\n      <td>-0.068143</td>\n      <td>1.000000</td>\n      <td>0.742691</td>\n      <td>0.034108</td>\n    </tr>\n    <tr>\n      <th>diffuse radiation, tilt</th>\n      <td>0.440259</td>\n      <td>-0.216266</td>\n      <td>-0.459441</td>\n      <td>0.194775</td>\n      <td>0.258931</td>\n      <td>-0.002506</td>\n      <td>0.742691</td>\n      <td>1.000000</td>\n      <td>0.044362</td>\n    </tr>\n    <tr>\n      <th>solar azimuth</th>\n      <td>0.360599</td>\n      <td>-0.001735</td>\n      <td>-0.428187</td>\n      <td>0.269784</td>\n      <td>-0.010382</td>\n      <td>0.014081</td>\n      <td>0.034108</td>\n      <td>0.044362</td>\n      <td>1.000000</td>\n    </tr>\n  </tbody>\n</table>\n</div>"
     },
     "execution_count": 189,
     "metadata": {},
     "output_type": "execute_result"
    }
   ],
   "source": [
    "#################################\n",
    "\n",
    "df.corr()\n",
    "\n",
    "#################################"
   ]
  },
  {
   "cell_type": "markdown",
   "metadata": {},
   "source": [
    "**h. We now focus on the correlation between precipitation and cloud cover. We want to infer the probability of having moderate to heavy rain (> 1 mm/h) as a function of the cloud cover index.**\n",
    "\n",
    "*HINT: you might find useful to create a new column where you have 0 if precipitation < 1 mm/h and 1 otherwise*"
   ]
  },
  {
   "cell_type": "code",
   "execution_count": 197,
   "metadata": {},
   "outputs": [
    {
     "data": {
      "text/plain": "0.24699287928342772"
     },
     "execution_count": 197,
     "metadata": {},
     "output_type": "execute_result"
    }
   ],
   "source": [
    "#################################\n",
    "\n",
    "def get_precipitation_index(temp_df):\n",
    "    if temp_df[\"precipitation\"] < 1.0:\n",
    "        return 0\n",
    "    else:\n",
    "        return 1\n",
    "\n",
    "df.loc[:, \"precipitation index\"] = df.apply(get_precipitation_index, axis=1)\n",
    "df['cloud cover'].corr(df['precipitation index'])\n",
    "\n",
    "#################################"
   ]
  },
  {
   "cell_type": "markdown",
   "metadata": {},
   "source": [
    "## TASK III.2 - INFERENCE"
   ]
  },
  {
   "cell_type": "markdown",
   "metadata": {},
   "source": [
    "**i. Let’s now assume that we want to predict the photovoltaic production (PV production) using  multiple  linear  regression.  Explain  which  features  are  statistically  significant  in modelling the target variable.**"
   ]
  },
  {
   "cell_type": "code",
   "execution_count": 167,
   "metadata": {},
   "outputs": [],
   "source": [
    "#################################\n",
    "\n",
    "\n",
    "#################################"
   ]
  },
  {
   "cell_type": "markdown",
   "metadata": {},
   "source": [
    "**j. Create a multivariate model using the predictors chosen in the previous question.**"
   ]
  },
  {
   "cell_type": "code",
   "execution_count": 168,
   "metadata": {},
   "outputs": [],
   "source": [
    "#################################\n",
    "\n",
    "\n",
    "#################################\n"
   ]
  }
 ],
 "metadata": {
  "kernelspec": {
   "display_name": "Python 3",
   "language": "python",
   "name": "python3"
  },
  "language_info": {
   "codemirror_mode": {
    "name": "ipython",
    "version": 3
   },
   "file_extension": ".py",
   "mimetype": "text/x-python",
   "name": "python",
   "nbconvert_exporter": "python",
   "pygments_lexer": "ipython3",
   "version": "3.7.0"
  }
 },
 "nbformat": 4,
 "nbformat_minor": 2
}