{
 "cells": [
  {
   "cell_type": "markdown",
   "metadata": {},
   "source": [
    "# Coursework: Climate data analysis"
   ]
  },
  {
   "cell_type": "code",
   "execution_count": 1,
   "metadata": {
    "scrolled": false
   },
   "outputs": [],
   "source": [
    "# python packages needed. You can, of course, use others if you need them.\n",
    "\n",
    "import numpy as np\n",
    "import pandas as pd\n",
    "import matplotlib.pyplot as plt\n",
    "import seaborn as sn\n",
    "import scipy as scipy\n",
    "import pickle as pickle\n",
    "from sklearn.metrics import mean_squared_error, mean_absolute_error"
   ]
  },
  {
   "cell_type": "markdown",
   "metadata": {},
   "source": [
    "## TASK I - Preliminary analysis"
   ]
  },
  {
   "cell_type": "markdown",
   "metadata": {},
   "source": [
    "**a. Import the `weather-denmark-resampled.pkl` dataset  provided  in  the  folderand explore  the dataset by answering the following questions.**"
   ]
  },
  {
   "cell_type": "code",
   "execution_count": 34,
   "metadata": {},
   "outputs": [
    {
     "name": "stdout",
     "output_type": "stream",
     "text": [
      "                      Aalborg                                     Aarhus  \\\n",
      "                         Temp     Pressure  WindSpeed     WindDir   Temp   \n",
      "DateTime                                                                   \n",
      "1980-03-01 10:00:00  4.333333  1007.533333  11.266667  286.666667    4.0   \n",
      "1980-03-01 11:00:00  5.000000  1007.766667  10.200000  280.000000    5.0   \n",
      "1980-03-01 12:00:00  5.000000  1008.000000  10.300000  290.000000    5.0   \n",
      "1980-03-01 13:00:00  5.000000  1008.066667   9.700000  290.000000    5.0   \n",
      "1980-03-01 14:00:00  4.333333  1008.133333  11.100000  283.333333    5.0   \n",
      "...                       ...          ...        ...         ...    ...   \n",
      "2018-03-01 19:00:00 -4.400000  1024.200000   7.200000   70.000000   -3.6   \n",
      "2018-03-01 20:00:00 -4.300000  1023.700000   6.700000   70.000000   -3.9   \n",
      "2018-03-01 21:00:00 -3.900000  1023.100000   8.800000   80.000000   -3.5   \n",
      "2018-03-01 22:00:00 -3.800000  1022.900000   7.200000   70.000000   -3.5   \n",
      "2018-03-01 23:00:00 -4.200000  1022.500000   7.200000   70.000000   -3.4   \n",
      "\n",
      "                                                     Esbjerg           \\\n",
      "                        Pressure WindSpeed WindDir      Temp Pressure   \n",
      "DateTime                                                                \n",
      "1980-03-01 10:00:00  1008.000000      14.9   290.0       NaN      NaN   \n",
      "1980-03-01 11:00:00  1008.300000      15.4   290.0  6.083333      NaN   \n",
      "1980-03-01 12:00:00  1008.600000      13.4   280.0  6.583333      NaN   \n",
      "1980-03-01 13:00:00  1008.433333      15.4   280.0  6.888889      NaN   \n",
      "1980-03-01 14:00:00  1008.266667      14.9   300.0  6.222222      NaN   \n",
      "...                          ...       ...     ...       ...      ...   \n",
      "2018-03-01 19:00:00  1022.700000       8.8    70.0 -5.000000   1022.6   \n",
      "2018-03-01 20:00:00  1022.200000       8.2    60.0 -4.333333   1022.6   \n",
      "2018-03-01 21:00:00  1021.700000       8.2    80.0 -5.000000   1022.6   \n",
      "2018-03-01 22:00:00  1021.200000       8.2    80.0 -5.000000   1022.6   \n",
      "2018-03-01 23:00:00  1021.000000       7.7    80.0 -5.333333   1022.6   \n",
      "\n",
      "                                              Odense                          \\\n",
      "                     WindSpeed     WindDir      Temp     Pressure  WindSpeed   \n",
      "DateTime                                                                       \n",
      "1980-03-01 10:00:00        NaN         NaN  5.545455  1010.933333  11.663636   \n",
      "1980-03-01 11:00:00  12.383333  310.000000  6.142857  1011.066667  12.585714   \n",
      "1980-03-01 12:00:00  12.883333  310.000000  7.000000  1011.200000  11.300000   \n",
      "1980-03-01 13:00:00  13.244444  309.444444  7.000000  1011.300000  12.118182   \n",
      "1980-03-01 14:00:00  12.911111  306.111111  6.857143  1011.400000  12.742857   \n",
      "...                        ...         ...       ...          ...        ...   \n",
      "2018-03-01 19:00:00   6.366667   70.000000 -4.400000  1020.400000   8.800000   \n",
      "2018-03-01 20:00:00   6.866667   80.000000 -5.000000  1019.800000   8.200000   \n",
      "2018-03-01 21:00:00   8.200000   80.000000 -5.200000  1019.200000   7.700000   \n",
      "2018-03-01 22:00:00   6.366667   66.666667 -5.000000  1018.700000   8.800000   \n",
      "2018-03-01 23:00:00   6.533333   60.000000 -4.700000  1018.300000   9.300000   \n",
      "\n",
      "                                 Roskilde                                  \n",
      "                        WindDir      Temp Pressure  WindSpeed     WindDir  \n",
      "DateTime                                                                   \n",
      "1980-03-01 10:00:00  285.454545       NaN      NaN        NaN         NaN  \n",
      "1980-03-01 11:00:00  290.000000  5.000000      NaN  11.466667  280.000000  \n",
      "1980-03-01 12:00:00  290.000000  5.000000      NaN  12.466667  280.000000  \n",
      "1980-03-01 13:00:00  290.000000  5.166667      NaN  13.133333  278.333333  \n",
      "1980-03-01 14:00:00  290.000000  5.833333      NaN  12.300000  270.000000  \n",
      "...                         ...       ...      ...        ...         ...  \n",
      "2018-03-01 19:00:00   60.000000 -4.400000   1020.6   6.200000   60.000000  \n",
      "2018-03-01 20:00:00   60.000000 -4.600000   1019.9   6.200000   70.000000  \n",
      "2018-03-01 21:00:00   60.000000 -5.100000   1019.6   5.100000   60.000000  \n",
      "2018-03-01 22:00:00   60.000000 -5.200000   1019.1   5.100000   60.000000  \n",
      "2018-03-01 23:00:00   60.000000 -5.300000   1018.6   4.100000   60.000000  \n",
      "\n",
      "[333110 rows x 20 columns]\n"
     ]
    }
   ],
   "source": [
    "# Loading .pkl files \n",
    "\n",
    "f_dp = open('df_perth.pkl', 'rb')\n",
    "f_wdr = open('weather-denmark-resampled.pkl', 'rb')\n",
    "\n",
    "# print(pickle.load(f_dp))\n",
    "df = pd.read_pickle(f_wdr)\n",
    "print(df)"
   ]
  },
  {
   "cell_type": "code",
   "execution_count": 31,
   "metadata": {},
   "outputs": [
    {
     "name": "stdout",
     "output_type": "stream",
     "text": [
      "5\n"
     ]
    }
   ],
   "source": [
    "################################### \n",
    "# i.How many cities are there in the dataset?\n",
    "\n",
    "# df.columns\n",
    "# print(len(df.columns) / 4)\n",
    "city = \"none\"\n",
    "city_numbers = 0\n",
    "for i in range(len(df.columns)):\n",
    "    if df.columns[i][0] != city:\n",
    "        city = df.columns[i][0]\n",
    "        city_numbers += 1\n",
    "print(city_numbers)\n",
    "\n",
    "###################################"
   ]
  },
  {
   "cell_type": "code",
   "execution_count": 32,
   "metadata": {},
   "outputs": [
    {
     "name": "stdout",
     "output_type": "stream",
     "text": [
      "4\n"
     ]
    }
   ],
   "source": [
    "###############################\n",
    "# ii.How many observations and features are there in this dataset?\n",
    "\n",
    "city = df.columns[0][0]\n",
    "features_numbers = 0\n",
    "for i in range(len(df.columns)):\n",
    "    if df.columns[i][0] != city:\n",
    "        break\n",
    "    else:\n",
    "        features_numbers += 1\n",
    "print(features_numbers)\n",
    "\n",
    "###############################"
   ]
  },
  {
   "cell_type": "code",
   "execution_count": 33,
   "metadata": {},
   "outputs": [
    {
     "name": "stdout",
     "output_type": "stream",
     "text": [
      "['Temp', 'Pressure', 'WindSpeed', 'WindDir']\n"
     ]
    }
   ],
   "source": [
    "###############################\n",
    "# iii.What are the names of the different features?\n",
    "\n",
    "features_list = []\n",
    "for i in range(features_numbers):\n",
    "    features_list.append(df.columns[i][1])\n",
    "print(features_list)\n",
    "\n",
    "###############################"
   ]
  },
  {
   "cell_type": "markdown",
   "metadata": {},
   "source": [
    "**b. Now that you got confident with the dataset, evaluate if the dataset contains anymissing values? If so, then remove them using the pandas built-in function.**\n",
    "\n"
   ]
  },
  {
   "cell_type": "code",
   "execution_count": 37,
   "metadata": {},
   "outputs": [],
   "source": [
    "###########################\n",
    "\n",
    "df = df.dropna(how='any')\n",
    "\n",
    "###########################"
   ]
  },
  {
   "cell_type": "markdown",
   "metadata": {},
   "source": [
    "**c. Extract the general statistical properties summarising the minimum, maximum, median, mean and standard deviation values for all the features in the dataset. Spot any anomalies in these properties and clearly explain why you classify them as anomalies.**"
   ]
  },
  {
   "cell_type": "code",
   "execution_count": 51,
   "metadata": {},
   "outputs": [
    {
     "name": "stdout",
     "output_type": "stream",
     "text": [
      "min: \n",
      "\n",
      "Aalborg   Temp         -25.000000\n",
      "          Pressure     951.900000\n",
      "          WindSpeed      0.000000\n",
      "          WindDir       10.000000\n",
      "Aarhus    Temp         -24.300000\n",
      "          Pressure     955.500000\n",
      "          WindSpeed      0.000000\n",
      "          WindDir       10.000000\n",
      "Esbjerg   Temp         -27.000000\n",
      "          Pressure     959.300000\n",
      "          WindSpeed      0.000000\n",
      "          WindDir       10.000000\n",
      "Odense    Temp         -22.500000\n",
      "          Pressure     959.700000\n",
      "          WindSpeed      0.000000\n",
      "          WindDir       10.000000\n",
      "Roskilde  Temp         -21.833333\n",
      "          Pressure     959.800000\n",
      "          WindSpeed      0.000000\n",
      "          WindDir       10.000000\n",
      "dtype: float64\n",
      "\n",
      "\n",
      "max: \n",
      "\n",
      "Aalborg   Temp           30.800000\n",
      "          Pressure     1050.800000\n",
      "          WindSpeed      32.900000\n",
      "          WindDir       360.000000\n",
      "Aarhus    Temp           30.900000\n",
      "          Pressure     1050.000000\n",
      "          WindSpeed      33.400000\n",
      "          WindDir       360.000000\n",
      "Esbjerg   Temp           54.000000\n",
      "          Pressure     1049.300000\n",
      "          WindSpeed      39.100000\n",
      "          WindDir       360.000000\n",
      "Odense    Temp           49.900000\n",
      "          Pressure     1048.900000\n",
      "          WindSpeed      62.521795\n",
      "          WindDir       360.000000\n",
      "Roskilde  Temp           32.000000\n",
      "          Pressure     1048.100000\n",
      "          WindSpeed      25.000000\n",
      "          WindDir       360.000000\n",
      "dtype: float64\n",
      "\n",
      "\n",
      "median: \n",
      "\n",
      "Aalborg   Temp            8.111111\n",
      "          Pressure     1013.400000\n",
      "          WindSpeed       4.600000\n",
      "          WindDir       210.000000\n",
      "Aarhus    Temp            8.000000\n",
      "          Pressure     1014.000000\n",
      "          WindSpeed       3.600000\n",
      "          WindDir       213.333333\n",
      "Esbjerg   Temp            8.333333\n",
      "          Pressure     1014.127073\n",
      "          WindSpeed       4.516667\n",
      "          WindDir       216.666667\n",
      "Odense    Temp            8.700000\n",
      "          Pressure     1014.433333\n",
      "          WindSpeed       4.600000\n",
      "          WindDir       210.000000\n",
      "Roskilde  Temp            8.000000\n",
      "          Pressure     1013.833333\n",
      "          WindSpeed       4.433333\n",
      "          WindDir       220.000000\n",
      "dtype: float64\n",
      "\n",
      "\n",
      "mean: \n",
      "\n",
      "Aalborg   Temp            8.344553\n",
      "          Pressure     1012.733809\n",
      "          WindSpeed       4.867129\n",
      "          WindDir       192.403707\n",
      "Aarhus    Temp            8.312325\n",
      "          Pressure     1013.346686\n",
      "          WindSpeed       4.033814\n",
      "          WindDir       201.369146\n",
      "Esbjerg   Temp            8.556717\n",
      "          Pressure     1013.131439\n",
      "          WindSpeed       4.888487\n",
      "          WindDir       201.843897\n",
      "Odense    Temp            8.823818\n",
      "          Pressure     1013.802996\n",
      "          WindSpeed       4.846944\n",
      "          WindDir       195.933713\n",
      "Roskilde  Temp            8.285595\n",
      "          Pressure     1012.841385\n",
      "          WindSpeed       4.831841\n",
      "          WindDir       202.828090\n",
      "dtype: float64\n",
      "\n",
      "\n",
      "standard deviation: \n",
      "\n",
      "Aalborg   Temp          6.984943\n",
      "          Pressure     11.693430\n",
      "          WindSpeed     2.794357\n",
      "          WindDir      88.021967\n",
      "Aarhus    Temp          7.024914\n",
      "          Pressure     11.281176\n",
      "          WindSpeed     2.545558\n",
      "          WindDir      82.112979\n",
      "Esbjerg   Temp          6.742853\n",
      "          Pressure     10.904699\n",
      "          WindSpeed     2.680096\n",
      "          WindDir      87.835192\n",
      "Odense    Temp          6.922563\n",
      "          Pressure     10.962173\n",
      "          WindSpeed     2.766738\n",
      "          WindDir      83.694276\n",
      "Roskilde  Temp          7.123108\n",
      "          Pressure     11.744512\n",
      "          WindSpeed     2.753835\n",
      "          WindDir      86.120459\n",
      "dtype: float64\n",
      "\n",
      "\n"
     ]
    }
   ],
   "source": [
    "###########################\n",
    "\n",
    "print(\"min: \\n\")\n",
    "print(df.min())\n",
    "print(\"\\n\")\n",
    "\n",
    "print(\"max: \\n\")\n",
    "print(df.max())\n",
    "print(\"\\n\")\n",
    "\n",
    "print(\"median: \\n\")\n",
    "print(df.median())\n",
    "print(\"\\n\")\n",
    "\n",
    "print(\"mean: \\n\")\n",
    "print(df.mean())\n",
    "print(\"\\n\")\n",
    "\n",
    "print(\"standard deviation: \\n\")\n",
    "print(df.std())\n",
    "print(\"\\n\")\n",
    "\n",
    "###########################"
   ]
  },
  {
   "cell_type": "markdown",
   "metadata": {},
   "source": [
    "## TASK II - OUTLIERS\n",
    "\n",
    "The second task is focused on spotting and overcoming outliers. Follow the instructions in the following:"
   ]
  },
  {
   "cell_type": "markdown",
   "metadata": {},
   "source": [
    "**d. Store the temperature measurements in May 2006 for the city of Odense. Then produce a simple plot of the temperature versus time.**\n",
    "\n",
    "*HINT: In this dataset, the cities are vertically stacked. Therefore, we have a multi column dataset, which basically works as a nested dictionary.*\n"
   ]
  },
  {
   "cell_type": "markdown",
   "metadata": {},
   "source": [
    "**e. Find the outliers in this set of measurements (if any) and replace them using linear interpolation.**"
   ]
  },
  {
   "cell_type": "markdown",
   "metadata": {},
   "source": [
    "## TASK III.1 - CORRELATION\n",
    "\n",
    "In this last task, you will be seeking correlation between features of the data and inferring hidden patterns.  For  this  task,  you  will  be  working  with  a  smaller  dataset.  Follow  the  instructions  in  the following:"
   ]
  },
  {
   "cell_type": "markdown",
   "metadata": {},
   "source": [
    "**f. We  now  take  a new  dataset (`df_perth.pkl`),  which  collects  climate  data  of  a  city  in Australia. Here we have just one year of measurements, but more features.**"
   ]
  },
  {
   "cell_type": "code",
   "execution_count": 8,
   "metadata": {},
   "outputs": [],
   "source": [
    "#################################\n",
    "\n",
    "\n",
    "#################################"
   ]
  },
  {
   "cell_type": "markdown",
   "metadata": {},
   "source": [
    "**g. Find any significant correlations between features.**\n",
    "\n",
    "*HINT: you might find useful looking fortrends and recurrent patterns within the data*"
   ]
  },
  {
   "cell_type": "code",
   "execution_count": 9,
   "metadata": {},
   "outputs": [],
   "source": [
    "#################################\n",
    "\n",
    "\n",
    "#################################"
   ]
  },
  {
   "cell_type": "markdown",
   "metadata": {},
   "source": [
    "**h. We now focus on the correlation between precipitation and cloud cover. We want to infer the probability of having moderate to heavy rain (> 1 mm/h) as a function of the cloud cover index.**\n",
    "\n",
    "*HINT: you might find useful to create a new column where you have 0 if precipitation < 1 mm/h and 1 otherwise*"
   ]
  },
  {
   "cell_type": "code",
   "execution_count": 10,
   "metadata": {},
   "outputs": [],
   "source": [
    "#################################\n",
    "\n",
    "\n",
    "#################################"
   ]
  },
  {
   "cell_type": "markdown",
   "metadata": {},
   "source": [
    "## TASK III.2 - INFERENCE"
   ]
  },
  {
   "cell_type": "markdown",
   "metadata": {},
   "source": [
    "**i. Let’s now assume that we want to predict the photovoltaic production (PV production) using  multiple  linear  regression.  Explain  which  features  are  statistically  significant  in modelling the target variable.**"
   ]
  },
  {
   "cell_type": "code",
   "execution_count": 11,
   "metadata": {},
   "outputs": [],
   "source": [
    "#################################\n",
    "\n",
    "\n",
    "#################################"
   ]
  },
  {
   "cell_type": "markdown",
   "metadata": {},
   "source": [
    "**j. Create a multivariate model using the predictors chosen in the previous question.**"
   ]
  },
  {
   "cell_type": "code",
   "execution_count": 12,
   "metadata": {},
   "outputs": [],
   "source": [
    "#################################\n",
    "\n",
    "\n",
    "#################################\n"
   ]
  }
 ],
 "metadata": {
  "kernelspec": {
   "display_name": "Python 3",
   "language": "python",
   "name": "python3"
  },
  "language_info": {
   "codemirror_mode": {
    "name": "ipython",
    "version": 3
   },
   "file_extension": ".py",
   "mimetype": "text/x-python",
   "name": "python",
   "nbconvert_exporter": "python",
   "pygments_lexer": "ipython3",
   "version": "3.7.0"
  }
 },
 "nbformat": 4,
 "nbformat_minor": 2
}